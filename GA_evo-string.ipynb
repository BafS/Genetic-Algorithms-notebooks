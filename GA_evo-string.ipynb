{
 "cells": [
  {
   "cell_type": "code",
   "execution_count": null,
   "metadata": {
    "collapsed": true
   },
   "outputs": [],
   "source": [
    "from pyevolve import G1DList\n",
    "from pyevolve import GSimpleGA\n",
    "from pyevolve import Selectors\n",
    "from pyevolve import Statistics"
   ]
  },
  {
   "cell_type": "code",
   "execution_count": null,
   "metadata": {
    "collapsed": false
   },
   "outputs": [],
   "source": [
    "def fitness(chromosome):\n",
    "   score = 0.0\n",
    "   target = 'METHINKS_IT_IS_LIKE_A_WEASEL'\n",
    "   # iterate over the chromosome\n",
    "   for i in range(0,len(chromosome)):\n",
    "      if chr(chromosome[i]) == target[i]:\n",
    "         score += 1\n",
    "   return score"
   ]
  },
  {
   "cell_type": "code",
   "execution_count": null,
   "metadata": {
    "collapsed": false
   },
   "outputs": [],
   "source": [
    "def current_best(ga_engine):\n",
    "   # Here you have access to the GA Engine\n",
    "   best = ga.bestIndividual()\n",
    "   for i in range(0,len(best)):\n",
    "     print(chr(best[i]))\n",
    "   return False\n"
   ]
  },
  {
   "cell_type": "code",
   "execution_count": null,
   "metadata": {
    "collapsed": false,
    "scrolled": true
   },
   "outputs": [],
   "source": [
    "# Chromosome representation\n",
    "\n",
    "# genome = List of elements\n",
    "genome = G1DList.G1DList(28)\n",
    "\n",
    "# elements = values in the range rangemin and rangemax\n",
    "# ASCII(65) = 'A' .... ASCII(95) = '_'\n",
    "genome.setParams(rangemin=65, rangemax=95)\n",
    "\n",
    "# how to compute the fitness\n",
    "genome.evaluator.set(fitness)\n",
    "\n",
    "# GA initialisation\n",
    "ga = GSimpleGA.GSimpleGA(genome)\n",
    "ga.setPopulationSize(200)\n",
    "ga.setMutationRate(0.05)\n",
    "ga.setCrossoverRate(0.9)\n",
    "ga.selector.set(Selectors.GTournamentSelector)\n",
    "ga.setElitism(True)\n",
    "\n",
    "# Number of generations\n",
    "ga.setGenerations(500)\n",
    "\n",
    "# In case we want to monitor the evolution process\n",
    "# execute the function current_best every generation\n",
    "#ga.stepCallback.set(current_best)\n",
    "\n",
    "ga.evolve(freq_stats=10)\n",
    "\n",
    "# Final best solution\n",
    "best = ga.bestIndividual()\n",
    "\n",
    "for i in range(0,len(best)):\n",
    "    print(chr(best[i]))"
   ]
  }
 ],
 "metadata": {
  "kernelspec": {
   "display_name": "Python 2",
   "language": "python",
   "name": "python2"
  },
  "language_info": {
   "codemirror_mode": {
    "name": "ipython",
    "version": 2
   },
   "file_extension": ".py",
   "mimetype": "text/x-python",
   "name": "python",
   "nbconvert_exporter": "python",
   "pygments_lexer": "ipython2",
   "version": "2.7.11"
  }
 },
 "nbformat": 4,
 "nbformat_minor": 0
}
