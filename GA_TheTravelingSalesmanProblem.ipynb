{
 "cells": [
  {
   "cell_type": "code",
   "execution_count": 69,
   "metadata": {
    "collapsed": true
   },
   "outputs": [],
   "source": [
    "from pyevolve import GSimpleGA\n",
    "from pyevolve import Selectors\n",
    "from pyevolve import DBAdapters\n",
    "from pyevolve import G1DList\n",
    "import math\n",
    "import random"
   ]
  },
  {
   "cell_type": "code",
   "execution_count": 70,
   "metadata": {},
   "outputs": [],
   "source": [
    "LAT = [16.47, 16.47, 20.09, 22.39, 25.23, 22.00, 20.47, \n",
    "        17.20, 16.30, 14.05, 16.53, 21.52, 19.41, 20.09]\n",
    "\n",
    "LON = [96.10, 94.44, 92.54, 93.37, 97.24, 96.05, 97.02, \n",
    "        96.29, 97.38, 98.12, 97.38, 95.59, 97.13, 94.55]\n",
    "\n",
    "\n",
    "class City:\n",
    "    \"\"\"\n",
    "    Represent a City\n",
    "    \"\"\"\n",
    "    \n",
    "    def __init__(self, lat, lon):\n",
    "        self.lat = lat\n",
    "        self.lon = lon\n",
    "    \n",
    "    def distance(self, city2):\n",
    "        \"\"\"\n",
    "        Calculates the distance between the current city and city2 using\n",
    "        the Haversine formula \n",
    "        \"\"\"\n",
    "        lat1, lon1 = (self.lat, self.lon)\n",
    "        lat2, lon2 = (city2.lat, city2.lon)\n",
    "        radius = 6371 # km\n",
    "        \n",
    "        dlat = math.radians(lat2-lat1)\n",
    "        dlon = math.radians(lon2-lon1)\n",
    "        a = math.sin(dlat/2) * math.sin(dlat/2) + math.cos(math.radians(lat1)) \\\n",
    "            * math.cos(math.radians(lat2)) * math.sin(dlon/2) * math.sin(dlon/2)\n",
    "        c = 2 * math.atan2(math.sqrt(a), math.sqrt(1-a))\n",
    "        return radius * c\n",
    "    \n",
    "    \n",
    "    def __repr__(self):\n",
    "        return \"{\" + str(self.lat) + \" \" + str(self.lon) + \"}\"\n",
    "    \n",
    "def travel(cities):\n",
    "    \"\"\"\n",
    "    Compute the total travel to visit each city\n",
    "    \"\"\"\n",
    "    \n",
    "    # score\n",
    "    travel = 0.0\n",
    "    n = len(cities)\n",
    "    \n",
    "    for i in xrange(0, n - 1):\n",
    "        # Distance between city_i and city_i+1\n",
    "        travel += cities[i].distance(cities[i + 1])\n",
    "\n",
    "    # add distance between the first and the last city\n",
    "    travel += cities[0].distance(cities[n - 1])\n",
    "    return travel\n",
    "\n",
    "\n",
    "def fitness(chromosome):    \n",
    "    \"\"\"\n",
    "     Minimize the total travel distance \n",
    "    \"\"\"\n",
    "    chromosomeCities = map(lambda i: City(LAT[i], LON[i]), chromosome)\n",
    "    return 10000 - travel(chromosomeCities)"
   ]
  },
  {
   "cell_type": "code",
   "execution_count": 71,
   "metadata": {
    "collapsed": false
   },
   "outputs": [
    {
     "name": "stdout",
     "output_type": "stream",
     "text": [
      "Gen. 0 (0.00%):"
     ]
    },
    {
     "name": "stdout",
     "output_type": "stream",
     "text": [
      " Max/Min/Avg Fitness(Raw) [3910.89(5598.45)/2632.54(1010.45)/3259.07(3259.07)]\nGen. 10 (5.00%):"
     ]
    },
    {
     "name": "stdout",
     "output_type": "stream",
     "text": [
      " Max/Min/Avg Fitness(Raw) [6870.07(5891.34)/0.00(3906.57)/5845.66(5725.06)]\nGen. 20 (10.00%):"
     ]
    },
    {
     "name": "stdout",
     "output_type": "stream",
     "text": [
      " Max/Min/Avg Fitness(Raw) [7189.70(6119.48)/0.00(3807.73)/6376.97(5991.42)]\n"
     ]
    },
    {
     "name": "stdout",
     "output_type": "stream",
     "text": [
      "Gen. 30 (15.00%):"
     ]
    },
    {
     "name": "stdout",
     "output_type": "stream",
     "text": [
      " Max/Min/Avg Fitness(Raw) [7316.94(6424.96)/0.00(4069.59)/6125.04(6097.45)]\n"
     ]
    },
    {
     "name": "stdout",
     "output_type": "stream",
     "text": [
      "Gen. 40 (20.00%):"
     ]
    },
    {
     "name": "stdout",
     "output_type": "stream",
     "text": [
      " Max/Min/Avg Fitness(Raw) [7639.84(6509.76)/0.00(4656.54)/6506.57(6366.54)]\n"
     ]
    },
    {
     "name": "stdout",
     "output_type": "stream",
     "text": [
      "Gen. 50 (25.00%):"
     ]
    },
    {
     "name": "stdout",
     "output_type": "stream",
     "text": [
      " Max/Min/Avg Fitness(Raw) [7754.75(6570.45)/0.00(4388.47)/6815.48(6462.29)]\n"
     ]
    },
    {
     "name": "stdout",
     "output_type": "stream",
     "text": [
      "Gen. 60 (30.00%):"
     ]
    },
    {
     "name": "stdout",
     "output_type": "stream",
     "text": [
      " Max/Min/Avg Fitness(Raw) [7755.07(6590.84)/0.00(4465.53)/6875.01(6462.56)]\n"
     ]
    },
    {
     "name": "stdout",
     "output_type": "stream",
     "text": [
      "Gen. 70 (35.00%):"
     ]
    },
    {
     "name": "stdout",
     "output_type": "stream",
     "text": [
      " Max/Min/Avg Fitness(Raw) [7836.56(6590.84)/0.00(4436.81)/7363.49(6530.47)]\n"
     ]
    },
    {
     "name": "stdout",
     "output_type": "stream",
     "text": [
      "Gen. 80 (40.00%):"
     ]
    },
    {
     "name": "stdout",
     "output_type": "stream",
     "text": [
      " Max/Min/Avg Fitness(Raw) [7698.59(6590.84)/0.00(4386.24)/6860.84(6415.49)]\n"
     ]
    },
    {
     "name": "stdout",
     "output_type": "stream",
     "text": [
      "Gen. 90 (45.00%):"
     ]
    },
    {
     "name": "stdout",
     "output_type": "stream",
     "text": [
      " Max/Min/Avg Fitness(Raw) [7906.66(6645.48)/0.00(4562.69)/7350.80(6588.89)]\n"
     ]
    },
    {
     "name": "stdout",
     "output_type": "stream",
     "text": [
      "Gen. 100 (50.00%):"
     ]
    },
    {
     "name": "stdout",
     "output_type": "stream",
     "text": [
      " Max/Min/Avg Fitness(Raw) [7756.99(6645.48)/0.00(4157.10)/6860.30(6464.16)]\n"
     ]
    },
    {
     "name": "stdout",
     "output_type": "stream",
     "text": [
      "Gen. 110 (55.00%):"
     ]
    },
    {
     "name": "stdout",
     "output_type": "stream",
     "text": [
      " Max/Min/Avg Fitness(Raw) [7888.62(6645.48)/0.00(5302.27)/7183.73(6573.85)]\n"
     ]
    },
    {
     "name": "stdout",
     "output_type": "stream",
     "text": [
      "Gen. 120 (60.00%):"
     ]
    },
    {
     "name": "stdout",
     "output_type": "stream",
     "text": [
      " Max/Min/Avg Fitness(Raw) [7811.80(6645.48)/0.00(4401.88)/6995.71(6509.83)]\n"
     ]
    },
    {
     "name": "stdout",
     "output_type": "stream",
     "text": [
      "Gen. 130 (65.00%):"
     ]
    },
    {
     "name": "stdout",
     "output_type": "stream",
     "text": [
      " Max/Min/Avg Fitness(Raw) [7784.95(6645.48)/0.00(4455.95)/6963.62(6487.46)]\n"
     ]
    },
    {
     "name": "stdout",
     "output_type": "stream",
     "text": [
      "Gen. 140 (70.00%):"
     ]
    },
    {
     "name": "stdout",
     "output_type": "stream",
     "text": [
      " Max/Min/Avg Fitness(Raw) [7921.18(6645.48)/0.00(5126.29)/7434.51(6600.98)]\n"
     ]
    },
    {
     "name": "stdout",
     "output_type": "stream",
     "text": [
      "Gen. 150 (75.00%):"
     ]
    },
    {
     "name": "stdout",
     "output_type": "stream",
     "text": [
      " Max/Min/Avg Fitness(Raw) [7800.41(6645.48)/0.00(4320.79)/6979.79(6500.34)]\n"
     ]
    },
    {
     "name": "stdout",
     "output_type": "stream",
     "text": [
      "Gen. 160 (80.00%):"
     ]
    },
    {
     "name": "stdout",
     "output_type": "stream",
     "text": [
      " Max/Min/Avg Fitness(Raw) [7740.47(6645.48)/0.00(4157.10)/6834.30(6450.39)]\n"
     ]
    },
    {
     "name": "stdout",
     "output_type": "stream",
     "text": [
      "Gen. 170 (85.00%):"
     ]
    },
    {
     "name": "stdout",
     "output_type": "stream",
     "text": [
      " Max/Min/Avg Fitness(Raw) [7762.06(6645.48)/0.00(4320.79)/6901.14(6468.38)]\n"
     ]
    },
    {
     "name": "stdout",
     "output_type": "stream",
     "text": [
      "Gen. 180 (90.00%):"
     ]
    },
    {
     "name": "stdout",
     "output_type": "stream",
     "text": [
      " Max/Min/Avg Fitness(Raw) [7841.41(6645.48)/0.00(4401.88)/7208.92(6534.51)]\n"
     ]
    },
    {
     "name": "stdout",
     "output_type": "stream",
     "text": [
      "Gen. 190 (95.00%):"
     ]
    },
    {
     "name": "stdout",
     "output_type": "stream",
     "text": [
      " Max/Min/Avg Fitness(Raw) [7740.30(6645.48)/0.00(3720.46)/6734.48(6450.25)]\n"
     ]
    },
    {
     "name": "stdout",
     "output_type": "stream",
     "text": [
      "Gen. 200 (100.00%):"
     ]
    },
    {
     "name": "stdout",
     "output_type": "stream",
     "text": [
      " Max/Min/Avg Fitness(Raw) [7846.25(6645.48)/0.00(4524.84)/7040.68(6538.54)]\nTotal time elapsed: 1.567 seconds.\n- GenomeBase\n\tScore:\t\t\t 6645.476863\n\tFitness:\t\t 7846.251377\n\n\tParams:\t\t {'rangemax': 13, 'rangemin': 0}\n\n\tSlot [Evaluator] (Count: 1)\n\t\tName: fitness - Weight: 0.50\n\t\tDoc: \n     Minimize the total travel distance \n    \n\tSlot [Initializator] (Count: 1)\n\t\tName: G1DListTSPInitializator - Weight: 0.50\n\t\tDoc:  The initializator for the genome \n\tSlot [Mutator] (Count: 1)\n\t\tName: G1DListMutatorSwap - Weight: 0.50\n\t\tDoc:  The mutator of G1DList, Swap Mutator\n   \n   .. note:: this mutator is :term:`Data Type Independent`\n\n   \n\tSlot [Crossover] (Count: 1)\n\t\tName: G1DListCrossoverSinglePoint - Weight: 0.50\n\t\tDoc:  The crossover of G1DList, Single Point\n\n   .. warning:: You can't use this crossover method for lists with just one element.\n\n   \n\n- G1DList\n\tList size:\t 14\n\tList:\t\t [10, 8, 9, 0, 1, 13, 2, 3, 4, 5, 11, 6, 12, 7]\n\n\ntotal distance 3354.52313748\n"
     ]
    }
   ],
   "source": [
    "def G1DListTSPInitializator(genome, **args):\n",
    "    \"\"\" The initializator for the genome \"\"\"\n",
    "\n",
    "    newGenomeInternal = [i for i in xrange(genome.getListSize())]\n",
    "    random.shuffle(newGenomeInternal)\n",
    "    genome.setInternalList(newGenomeInternal)\n",
    "\n",
    "# Chromosome representation\n",
    "genome = G1DList.G1DList(len(LON))\n",
    "\n",
    "# genome = bitstring\n",
    "genome.initializator.set(G1DListTSPInitializator)\n",
    "genome.setParams(rangemin=0, rangemax=len(LON)-1)\n",
    "\n",
    "# Compute the fitness (the travel)\n",
    "genome.evaluator.set(fitness)\n",
    "\n",
    "# GA initialisation\n",
    "ga = GSimpleGA.GSimpleGA(genome, seed=123)\n",
    "ga.setPopulationSize(100)\n",
    "ga.setMutationRate(0.01)\n",
    "ga.setCrossoverRate(0.0) # we remove the crossover, we must visit each city\n",
    "ga.selector.set(Selectors.GTournamentSelector)\n",
    "ga.setElitism(True)\n",
    "\n",
    "sqlite_adapter = DBAdapters.DBSQLite(identify=\"TheTravelingSalesmanProblem\")\n",
    "ga.setDBAdapter(sqlite_adapter)\n",
    "\n",
    "# Number of generations\n",
    "ga.setGenerations(200)\n",
    "\n",
    "# In case we want to monitor the evolution process\n",
    "# execute the function current_best every generation\n",
    "# ga.stepCallback.set(current_best)\n",
    "ga.evolve(freq_stats=10)\n",
    "\n",
    "# Final best solution\n",
    "print ga.bestIndividual()\n",
    "\n",
    "# Calculate the total distance\n",
    "bestIndividual = ga.bestIndividual()\n",
    "cities = map(lambda i: City(LAT[i], LON[i]), bestIndividual)\n",
    "print \"total distance\", travel(cities)"
   ]
  },
  {
   "cell_type": "code",
   "execution_count": 72,
   "metadata": {
    "collapsed": true
   },
   "outputs": [
    {
     "name": "stdout",
     "output_type": "stream",
     "text": [
      "Pyevolve 0.6rc1 - Graph Plot Tool\nBy Christian S. Perone\n\nLoading modules....\nLoading database and creating graph...\n200 generations found !\n"
     ]
    },
    {
     "data": {
      "image/png": "[encoded data removed]",
      "text/plain": [
       "<matplotlib.figure.Figure at 0x104488a50>"
      ]
     },
     "metadata": {},
     "output_type": "display_data"
    }
   ],
   "source": [
    "# Generate a graph showing the evolutionary results: fitness vs generations\n",
    "%run ~/anaconda/bin/pyevolve_graph.py -i TheTravelingSalesmanProblem -2"
   ]
  },
  {
   "cell_type": "code",
   "execution_count": 73,
   "metadata": {
    "collapsed": false
   },
   "outputs": [
    {
     "name": "stdout",
     "output_type": "stream",
     "text": [
      "Pyevolve 0.6rc1 - Graph Plot Tool\nBy Christian S. Perone\n\nLoading modules....\nLoading database and creating graph...\n"
     ]
    },
    {
     "name": "stdout",
     "output_type": "stream",
     "text": [
      "200 generations found !\n"
     ]
    },
    {
     "data": {
      "image/png": "[encoded data removed]",
      "text/plain": [
       "<matplotlib.figure.Figure at 0x104221410>"
      ]
     },
     "metadata": {},
     "output_type": "display_data"
    }
   ],
   "source": [
    "# Generate a heatmap of population fitness score distribution over generations\n",
    "%run ~/anaconda/bin/pyevolve_graph.py -i TheTravelingSalesmanProblem -9"
   ]
  },
  {
   "cell_type": "code",
   "execution_count": null,
   "metadata": {
    "collapsed": true
   },
   "outputs": [],
   "source": [
    ""
   ]
  }
 ],
 "metadata": {
  "kernelspec": {
   "display_name": "Python 2",
   "language": "python",
   "name": "python2"
  },
  "language_info": {
   "codemirror_mode": {
    "name": "ipython",
    "version": 2.0
   },
   "file_extension": ".py",
   "mimetype": "text/x-python",
   "name": "python",
   "nbconvert_exporter": "python",
   "pygments_lexer": "ipython2",
   "version": "2.7.13"
  }
 },
 "nbformat": 4,
 "nbformat_minor": 0
}