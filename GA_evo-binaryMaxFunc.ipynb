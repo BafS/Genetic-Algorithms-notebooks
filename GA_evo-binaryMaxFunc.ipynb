{
 "cells": [
  {
   "cell_type": "code",
   "execution_count": 1,
   "metadata": {
    "collapsed": true
   },
   "outputs": [],
   "source": [
    "from pyevolve import G1DBinaryString\n",
    "from pyevolve import GSimpleGA\n",
    "from pyevolve import Selectors\n",
    "from pyevolve import Statistics"
   ]
  },
  {
   "cell_type": "code",
   "execution_count": 2,
   "metadata": {
    "collapsed": true
   },
   "outputs": [],
   "source": [
    "def fitness(chromosome):\n",
    "   score = 0.0\n",
    "   values = []\n",
    "   # iterate over the chromosome\n",
    "   for i in xrange(0,len(chromosome),4):\n",
    "    value = chromosome[i+3]+chromosome[i+2]*2+chromosome[i+1]*4+chromosome[i]*8\n",
    "    if (value == 0):\n",
    "        value = 16\n",
    "    values.append(value)\n",
    "   score = (values[0]*values[1]*values[2]*values[3])/(values[4]*values[5]*values[6]*values[7])\n",
    "   return score"
   ]
  },
  {
   "cell_type": "code",
   "execution_count": 3,
   "metadata": {},
   "outputs": [
    {
     "name": "stdout",
     "output_type": "stream",
     "text": [
      "Gen. 0 (0.00%): Max/Min/Avg Fitness(Raw) [7.45(214.00)/6.17(0.00)/6.21(6.21)]\n",
      "Gen. 10 (10.00%): Max/Min/Avg Fitness(Raw) [3461.15(40320.00)/2840.97(73.00)/2884.29(2884.29)]\n",
      "Gen. 20 (20.00%): Max/Min/Avg Fitness(Raw) [41544.47(50400.00)/19526.41(222.00)/34620.39(34620.39)]\n",
      "Gen. 30 (30.00%): Max/Min/Avg Fitness(Raw) [54050.52(54000.00)/0.00(275.00)/45662.24(45662.24)]\n",
      "Gen. 40 (40.00%): Max/Min/Avg Fitness(Raw) [54104.86(54000.00)/0.00(488.00)/44534.93(44534.93)]\n",
      "Gen. 50 (50.00%): Max/Min/Avg Fitness(Raw) [54194.15(54000.00)/0.00(880.00)/44398.75(44398.75)]\n",
      "Gen. 60 (60.00%): Max/Min/Avg Fitness(Raw) [54563.65(54000.00)/0.00(3375.00)/46755.15(46755.15)]\n",
      "Gen. 70 (70.00%): Max/Min/Avg Fitness(Raw) [54905.62(54000.00)/0.00(3375.00)/43289.62(43289.62)]\n",
      "Gen. 80 (80.00%): Max/Min/Avg Fitness(Raw) [54103.83(54000.00)/0.00(675.00)/46891.00(46891.00)]\n",
      "Gen. 90 (90.00%): Max/Min/Avg Fitness(Raw) [54423.79(54000.00)/0.00(3375.00)/48352.35(48352.35)]\n",
      "Gen. 100 (100.00%): Max/Min/Avg Fitness(Raw) [54065.85(54000.00)/0.00(210.00)/41159.70(41159.70)]\n",
      "Total time elapsed: 1.133 seconds.\n",
      "- GenomeBase\n",
      "\tScore:\t\t\t 54000.000000\n",
      "\tFitness:\t\t 54065.848175\n",
      "\n",
      "\tParams:\t\t {}\n",
      "\n",
      "\tSlot [Evaluator] (Count: 1)\n",
      "\t\tName: fitness - Weight: 0.50\n",
      "\tSlot [Initializator] (Count: 1)\n",
      "\t\tName: G1DBinaryStringInitializator - Weight: 0.50\n",
      "\t\tDoc:  1D Binary String initializator \n",
      "\tSlot [Mutator] (Count: 1)\n",
      "\t\tName: G1DBinaryStringMutatorFlip - Weight: 0.50\n",
      "\t\tDoc:  The classical flip mutator for binary strings \n",
      "\tSlot [Crossover] (Count: 1)\n",
      "\t\tName: G1DBinaryStringXSinglePoint - Weight: 0.50\n",
      "\t\tDoc:  The crossover of 1D Binary String, Single Point\n",
      "\n",
      "   .. warning:: You can't use this crossover method for binary strings with length of 1.\n",
      "\n",
      "   \n",
      "\n",
      "- G1DBinaryString\n",
      "\tString length:\t 32\n",
      "\tString:\t\t 11111111111100000001000100010001\n",
      "\n",
      "\n"
     ]
    }
   ],
   "source": [
    "# Chromosome representation\n",
    "\n",
    "# genome = bitstring\n",
    "genome = G1DBinaryString.G1DBinaryString(32)\n",
    "\n",
    "# how to compute the fitness\n",
    "genome.evaluator.set(fitness)\n",
    "\n",
    "# GA initialisation\n",
    "ga = GSimpleGA.GSimpleGA(genome, seed=999)\n",
    "ga.setPopulationSize(100)\n",
    "ga.setMutationRate(0.01)\n",
    "ga.setCrossoverRate(0.9)\n",
    "ga.selector.set(Selectors.GTournamentSelector)\n",
    "ga.setElitism(True)\n",
    "\n",
    "# Number of generations\n",
    "ga.setGenerations(100)\n",
    "\n",
    "# In case we want to monitor the evolution process\n",
    "# execute the function current_best every generation\n",
    "#ga.stepCallback.set(current_best)\n",
    "\n",
    "ga.evolve(freq_stats=10)\n",
    "\n",
    "# Final best solution\n",
    "print ga.bestIndividual()"
   ]
  },
  {
   "cell_type": "code",
   "execution_count": null,
   "metadata": {
    "collapsed": true
   },
   "outputs": [],
   "source": []
  }
 ],
 "metadata": {
  "kernelspec": {
   "display_name": "Python 2",
   "language": "python",
   "name": "python2"
  },
  "language_info": {
   "codemirror_mode": {
    "name": "ipython",
    "version": 2
   },
   "file_extension": ".py",
   "mimetype": "text/x-python",
   "name": "python",
   "nbconvert_exporter": "python",
   "pygments_lexer": "ipython2",
   "version": "2.7.13"
  }
 },
 "nbformat": 4,
 "nbformat_minor": 1
}
